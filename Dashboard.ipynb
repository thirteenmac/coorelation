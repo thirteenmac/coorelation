{
 "cells": [
  {
   "cell_type": "code",
   "execution_count": 1,
   "id": "4ea54241",
   "metadata": {},
   "outputs": [
    {
     "ename": "ModuleNotFoundError",
     "evalue": "No module named 'streamlit'",
     "output_type": "error",
     "traceback": [
      "\u001b[1;31m---------------------------------------------------------------------------\u001b[0m",
      "\u001b[1;31mModuleNotFoundError\u001b[0m                       Traceback (most recent call last)",
      "Cell \u001b[1;32mIn[1], line 1\u001b[0m\n\u001b[1;32m----> 1\u001b[0m \u001b[38;5;28;01mimport\u001b[39;00m \u001b[38;5;21;01mstreamlit\u001b[39;00m \u001b[38;5;28;01mas\u001b[39;00m \u001b[38;5;21;01mst\u001b[39;00m\n\u001b[0;32m      3\u001b[0m \u001b[38;5;66;03m# Set page config\u001b[39;00m\n\u001b[0;32m      4\u001b[0m st\u001b[38;5;241m.\u001b[39mset_page_config(page_title\u001b[38;5;241m=\u001b[39m\u001b[38;5;124m\"\u001b[39m\u001b[38;5;124mPVD Dashboard\u001b[39m\u001b[38;5;124m\"\u001b[39m, page_icon\u001b[38;5;241m=\u001b[39m\u001b[38;5;124m\"\u001b[39m\u001b[38;5;124m🔧\u001b[39m\u001b[38;5;124m\"\u001b[39m)\n",
      "\u001b[1;31mModuleNotFoundError\u001b[0m: No module named 'streamlit'"
     ]
    }
   ],
   "source": [
    "import streamlit as st\n",
    "\n",
    "# Set page config\n",
    "st.set_page_config(page_title=\"PVD Dashboard\", page_icon=\"🔧\")\n",
    "\n",
    "# Custom CSS for the background and button styling\n",
    "st.markdown(\n",
    "    \n",
    "    <style>\n",
    "    body {\n",
    "        background-color: white;\n",
    "    }\n",
    "    .stButton>button {\n",
    "        background-color: #008081;\n",
    "        color: white;\n",
    "        border: none;\n",
    "        padding: 10px 20px;\n",
    "        margin: 5px;\n",
    "    }\n",
    "    </style>\n",
    "    ,\n",
    "    unsafe_allow_html=True\n",
    ")\n",
    "\n",
    "# Main heading\n",
    "st.title(\"PVD Dashboard\")\n",
    "\n",
    "# Sidebar for navigation\n",
    "st.sidebar.title(\"Navigation\")\n",
    "section = st.sidebar.radio(\"Go to\", (\"Pumpdown 1\", \"Glow Etching\", \"Pumpdown 2\", \"Arc Cleaning\", \"Arc Etching\"))\n",
    "\n",
    "# Display section heading based on the selected button\n",
    "if section == \"Pumpdown 1\":\n",
    "    st.subheader(\"Pumpdown 1\")\n",
    "elif section == \"Glow Etching\":\n",
    "    st.subheader(\"Glow Etching\")\n",
    "elif section == \"Pumpdown 2\":\n",
    "    st.subheader(\"Pumpdown 2\")\n",
    "elif section == \"Arc Cleaning\":\n",
    "    st.subheader(\"Arc Cleaning\")\n",
    "elif section == \"Arc Etching\":\n",
    "    st.subheader(\"Arc Etching\")\n",
    "\n",
    "# Buttons for navigation at the bottom\n",
    "col1, col2, col3, col4, col5 = st.columns(5)\n",
    "\n",
    "if col1.button(\"Pumpdown 1\"):\n",
    "    st.experimental_rerun()\n",
    "if col2.button(\"Glow Etching\"):\n",
    "    st.experimental_rerun()\n",
    "if col3.button(\"Pumpdown 2\"):\n",
    "    st.experimental_rerun()\n",
    "if col4.button(\"Arc Cleaning\"):\n",
    "    st.experimental_rerun()\n",
    "if col5.button(\"Arc Etching\"):\n",
    "    st.experimental_rerun()\n"
   ]
  },
  {
   "cell_type": "code",
   "execution_count": null,
   "id": "d3d16afb",
   "metadata": {},
   "outputs": [],
   "source": []
  }
 ],
 "metadata": {
  "kernelspec": {
   "display_name": "Python 3 (ipykernel)",
   "language": "python",
   "name": "python3"
  },
  "language_info": {
   "codemirror_mode": {
    "name": "ipython",
    "version": 3
   },
   "file_extension": ".py",
   "mimetype": "text/x-python",
   "name": "python",
   "nbconvert_exporter": "python",
   "pygments_lexer": "ipython3",
   "version": "3.11.5"
  }
 },
 "nbformat": 4,
 "nbformat_minor": 5
}
